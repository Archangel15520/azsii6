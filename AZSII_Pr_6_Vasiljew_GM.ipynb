{
  "nbformat": 4,
  "nbformat_minor": 0,
  "metadata": {
    "colab": {
      "provenance": []
    },
    "kernelspec": {
      "name": "python3",
      "display_name": "Python 3"
    },
    "language_info": {
      "name": "python"
    }
  },
  "cells": [
    {
      "cell_type": "markdown",
      "source": [
        "# Практика 6: Атака по переносу (Transfer Attack) на модели ИИ\n",
        "По предмету: Анализ защищенности систем искусственного интеллекта\n",
        "\n",
        "Выполнил студент 2 курса группы ББМО-02-23\n",
        "\n",
        "Васильев Григорий Максимович\n",
        "\n",
        "**Цель задания:**\n",
        "\n",
        "Изучить концепцию атаки по переносу, где противоречивые примеры, созданные для одной модели, используются для атаки на другую модель. Это задание требует создания нескольких моделей, генерации противоречивых примеров для одной модели и проверки их на другой модели.\n",
        "\n",
        "**Задачи:**\n",
        "\n",
        "* Загрузить несколько моделей, обученных на датасете MNIST.\n",
        "* Изучить теоретические основы атаки по переносу.\n",
        "* Реализовать атаку FGSM на одну модель и проверить, как противоречивые примеры влияют на другую модель.\n",
        "* Оценить точность обеих моделей на противоречивых примерах и проанализировать переносимость атак.\n",
        "\n",
        "**Шаги выполнения:**\n",
        "\n",
        "## Шаг 1: Загрузка и создание двух различных моделей\n",
        "Создаем две модели на датасете MNIST: одну простую полносвязную сеть и одну свёрточную нейронную сеть (CNN)\n",
        "\n",
        "**Загрузка нужных библиотек:**"
      ],
      "metadata": {
        "id": "ToTwK55ld9nc"
      }
    },
    {
      "cell_type": "markdown",
      "source": [
        "Репозитории со всеми работами находится по ссылке: https://github.com/Archangel15520/AZSII-REPO/blob/main/README.md"
      ],
      "metadata": {
        "id": "3rlMRXrWKDZE"
      }
    },
    {
      "cell_type": "code",
      "execution_count": 1,
      "metadata": {
        "id": "lKk2EmiJcTRs"
      },
      "outputs": [],
      "source": [
        "import tensorflow as tf\n",
        "from tensorflow.keras.datasets import mnist\n",
        "from tensorflow.keras.models import Sequential\n",
        "from tensorflow.keras.layers import Dense, Flatten, Conv2D, MaxPooling2D\n",
        "from tensorflow.keras.utils import to_categorical"
      ]
    },
    {
      "cell_type": "markdown",
      "source": [
        "**Загрузка датасета MNIST и нормализация данных:**"
      ],
      "metadata": {
        "id": "u2ntW3PVd--I"
      }
    },
    {
      "cell_type": "code",
      "source": [
        "# Загрузка датасета MNIST:\n",
        "(train_images, train_labels), (test_images, test_labels) = mnist.load_data()\n",
        "# Нормализация данных:\n",
        "train_images = train_images / 255.0\n",
        "test_images = test_images / 255.0\n",
        "# Преобразование меток в one-hot encoding:\n",
        "train_labels = to_categorical(train_labels)\n",
        "test_labels = to_categorical(test_labels)"
      ],
      "metadata": {
        "colab": {
          "base_uri": "https://localhost:8080/"
        },
        "id": "RdaVLFM_d_ky",
        "outputId": "5eebaf2c-8c83-4ac0-fd16-5170efa4c1df"
      },
      "execution_count": 2,
      "outputs": [
        {
          "output_type": "stream",
          "name": "stdout",
          "text": [
            "Downloading data from https://storage.googleapis.com/tensorflow/tf-keras-datasets/mnist.npz\n",
            "\u001b[1m11490434/11490434\u001b[0m \u001b[32m━━━━━━━━━━━━━━━━━━━━\u001b[0m\u001b[37m\u001b[0m \u001b[1m0s\u001b[0m 0us/step\n"
          ]
        }
      ]
    },
    {
      "cell_type": "markdown",
      "source": [
        "**Создание простой полносвязной модели на датасете MNIST с проверкой точности и сохранением:**"
      ],
      "metadata": {
        "id": "OFBtTYmse-Bh"
      }
    },
    {
      "cell_type": "code",
      "source": [
        "# Создание простой полносвязной модели\n",
        "model1 = Sequential([\n",
        "    Flatten(input_shape=(28, 28)),\n",
        "    Dense(128, activation='relu'),\n",
        "    Dense(10, activation='softmax')\n",
        "])\n",
        "\n",
        "# Компиляция модели\n",
        "model1.compile(\n",
        "    optimizer='adam',\n",
        "    loss='categorical_crossentropy',\n",
        "    metrics=['accuracy']\n",
        ")\n",
        "\n",
        "# Обучение модели\n",
        "model1.fit(train_images, train_labels, epochs=5)\n",
        "\n",
        "# Проверка точности модели на обычных данных\n",
        "test_loss, test_acc = model1.evaluate(test_images, test_labels)\n",
        "print(f'Проверка точность на чистых изображениях: {test_acc}')\n",
        "\n",
        "# Сохранение модели\n",
        "model1.save('mnist_model_1.h5')"
      ],
      "metadata": {
        "colab": {
          "base_uri": "https://localhost:8080/"
        },
        "id": "OKcfxrDmfBh3",
        "outputId": "0ad28b0a-c5c9-4abe-e821-2e5ff233158e"
      },
      "execution_count": 3,
      "outputs": [
        {
          "output_type": "stream",
          "name": "stderr",
          "text": [
            "/usr/local/lib/python3.10/dist-packages/keras/src/layers/reshaping/flatten.py:37: UserWarning: Do not pass an `input_shape`/`input_dim` argument to a layer. When using Sequential models, prefer using an `Input(shape)` object as the first layer in the model instead.\n",
            "  super().__init__(**kwargs)\n"
          ]
        },
        {
          "output_type": "stream",
          "name": "stdout",
          "text": [
            "Epoch 1/5\n",
            "\u001b[1m1875/1875\u001b[0m \u001b[32m━━━━━━━━━━━━━━━━━━━━\u001b[0m\u001b[37m\u001b[0m \u001b[1m7s\u001b[0m 3ms/step - accuracy: 0.8797 - loss: 0.4215\n",
            "Epoch 2/5\n",
            "\u001b[1m1875/1875\u001b[0m \u001b[32m━━━━━━━━━━━━━━━━━━━━\u001b[0m\u001b[37m\u001b[0m \u001b[1m10s\u001b[0m 3ms/step - accuracy: 0.9639 - loss: 0.1239\n",
            "Epoch 3/5\n",
            "\u001b[1m1875/1875\u001b[0m \u001b[32m━━━━━━━━━━━━━━━━━━━━\u001b[0m\u001b[37m\u001b[0m \u001b[1m10s\u001b[0m 3ms/step - accuracy: 0.9750 - loss: 0.0790\n",
            "Epoch 4/5\n",
            "\u001b[1m1875/1875\u001b[0m \u001b[32m━━━━━━━━━━━━━━━━━━━━\u001b[0m\u001b[37m\u001b[0m \u001b[1m8s\u001b[0m 4ms/step - accuracy: 0.9819 - loss: 0.0585\n",
            "Epoch 5/5\n",
            "\u001b[1m1875/1875\u001b[0m \u001b[32m━━━━━━━━━━━━━━━━━━━━\u001b[0m\u001b[37m\u001b[0m \u001b[1m6s\u001b[0m 3ms/step - accuracy: 0.9866 - loss: 0.0433\n",
            "\u001b[1m313/313\u001b[0m \u001b[32m━━━━━━━━━━━━━━━━━━━━\u001b[0m\u001b[37m\u001b[0m \u001b[1m1s\u001b[0m 3ms/step - accuracy: 0.9738 - loss: 0.0862\n"
          ]
        },
        {
          "output_type": "stream",
          "name": "stderr",
          "text": [
            "WARNING:absl:You are saving your model as an HDF5 file via `model.save()` or `keras.saving.save_model(model)`. This file format is considered legacy. We recommend using instead the native Keras format, e.g. `model.save('my_model.keras')` or `keras.saving.save_model(model, 'my_model.keras')`. \n"
          ]
        },
        {
          "output_type": "stream",
          "name": "stdout",
          "text": [
            "Проверка точность на чистых изображениях: 0.9763000011444092\n"
          ]
        }
      ]
    },
    {
      "cell_type": "markdown",
      "source": [
        "**Создание свёрточной нейронной сети на датасете MNIST с проверкой точности и сохранением:**"
      ],
      "metadata": {
        "id": "b6_NJyyKfr3w"
      }
    },
    {
      "cell_type": "code",
      "source": [
        "# Создание модели свёрточной нейронной сети\n",
        "model2 = Sequential([\n",
        "    Conv2D(32, (3, 3), activation='relu', input_shape=(28, 28, 1)),\n",
        "    MaxPooling2D((2, 2)),\n",
        "    Flatten(),\n",
        "    Dense(128, activation='relu'),\n",
        "    Dense(10, activation='softmax')\n",
        "])\n",
        "\n",
        "# Компиляция модели\n",
        "model2.compile(\n",
        "    optimizer='adam',\n",
        "    loss='categorical_crossentropy',\n",
        "    metrics=['accuracy']\n",
        ")\n",
        "\n",
        "# Обучение модели\n",
        "model2.fit(train_images, train_labels, epochs=5)\n",
        "\n",
        "# Проверка точности модели на обычных данных\n",
        "test_loss, test_acc = model2.evaluate(test_images, test_labels)\n",
        "print(f'Проверка точность на чистых изображениях: {test_acc}')\n",
        "\n",
        "# Сохранение модели\n",
        "model2.save('mnist_model_2.h5')"
      ],
      "metadata": {
        "colab": {
          "base_uri": "https://localhost:8080/"
        },
        "id": "JHRx6393fxxf",
        "outputId": "c9481aec-8a7d-481c-9d79-40b681149dda"
      },
      "execution_count": 4,
      "outputs": [
        {
          "metadata": {
            "tags": null
          },
          "name": "stderr",
          "output_type": "stream",
          "text": [
            "/usr/local/lib/python3.10/dist-packages/keras/src/layers/convolutional/base_conv.py:107: UserWarning: Do not pass an `input_shape`/`input_dim` argument to a layer. When using Sequential models, prefer using an `Input(shape)` object as the first layer in the model instead.\n",
            "  super().__init__(activity_regularizer=activity_regularizer, **kwargs)\n"
          ]
        },
        {
          "output_type": "stream",
          "name": "stdout",
          "text": [
            "Epoch 1/5\n",
            "\u001b[1m1875/1875\u001b[0m \u001b[32m━━━━━━━━━━━━━━━━━━━━\u001b[0m\u001b[37m\u001b[0m \u001b[1m40s\u001b[0m 21ms/step - accuracy: 0.9104 - loss: 0.2971\n",
            "Epoch 2/5\n",
            "\u001b[1m1875/1875\u001b[0m \u001b[32m━━━━━━━━━━━━━━━━━━━━\u001b[0m\u001b[37m\u001b[0m \u001b[1m41s\u001b[0m 20ms/step - accuracy: 0.9830 - loss: 0.0542\n",
            "Epoch 3/5\n",
            "\u001b[1m1875/1875\u001b[0m \u001b[32m━━━━━━━━━━━━━━━━━━━━\u001b[0m\u001b[37m\u001b[0m \u001b[1m38s\u001b[0m 20ms/step - accuracy: 0.9890 - loss: 0.0345\n",
            "Epoch 4/5\n",
            "\u001b[1m1875/1875\u001b[0m \u001b[32m━━━━━━━━━━━━━━━━━━━━\u001b[0m\u001b[37m\u001b[0m \u001b[1m40s\u001b[0m 20ms/step - accuracy: 0.9931 - loss: 0.0225\n",
            "Epoch 5/5\n",
            "\u001b[1m1875/1875\u001b[0m \u001b[32m━━━━━━━━━━━━━━━━━━━━\u001b[0m\u001b[37m\u001b[0m \u001b[1m42s\u001b[0m 21ms/step - accuracy: 0.9948 - loss: 0.0156\n",
            "\u001b[1m313/313\u001b[0m \u001b[32m━━━━━━━━━━━━━━━━━━━━\u001b[0m\u001b[37m\u001b[0m \u001b[1m2s\u001b[0m 6ms/step - accuracy: 0.9814 - loss: 0.0654\n"
          ]
        },
        {
          "output_type": "stream",
          "name": "stderr",
          "text": [
            "WARNING:absl:You are saving your model as an HDF5 file via `model.save()` or `keras.saving.save_model(model)`. This file format is considered legacy. We recommend using instead the native Keras format, e.g. `model.save('my_model.keras')` or `keras.saving.save_model(model, 'my_model.keras')`. \n"
          ]
        },
        {
          "output_type": "stream",
          "name": "stdout",
          "text": [
            "Проверка точность на чистых изображениях: 0.9857000112533569\n"
          ]
        }
      ]
    },
    {
      "cell_type": "markdown",
      "source": [
        "## Шаг 2: Теория атаки по переносу\n",
        "\n",
        "Атака по переносу — это метод, при котором противоречивые примеры, созданные для одной модели, применяются к другой модели. Это возможно, потому что модели часто имеют схожие слабости и могут совершать одинаковые ошибки на определенных данных, даже если они обучены на разных архитектурах.\n",
        "\n",
        "В этом задании мы создадим противоречивые примеры для первой модели с помощью FGSM и затем проверим, насколько эти примеры могут атаковать вторую модель.\n",
        "\n",
        "## Шаг 3: Реализация атаки FGSM на первую модель (полносвязную)\n",
        "\n",
        "Применим атаку FGSM (Fast Gradient Sign Method) к первой модели, чтобы создать противоречивые примеры:"
      ],
      "metadata": {
        "id": "cDFj-JmOgCF-"
      }
    },
    {
      "cell_type": "code",
      "source": [
        "import numpy as np\n",
        "import tensorflow as tf\n",
        "import matplotlib.pyplot as plt\n",
        "\n",
        "# Функция для реализации FGSM атаки\n",
        "def fgsm_attack(image, epsilon, gradient):\n",
        "    # Применение знака градиента к изображению\n",
        "    perturbed_image = image + epsilon * np.sign(gradient)\n",
        "    # Обрезка значений, чтобы они оставались в пределах [0, 1]\n",
        "    perturbed_image = np.clip(perturbed_image, 0, 1)\n",
        "    return perturbed_image\n",
        "\n",
        "# Функция для генерации противоречивых примеров\n",
        "def generate_adversarial_example(model, images, labels, epsilon):\n",
        "    adversarial_images = []\n",
        "    for i in range(len(images)):\n",
        "        # Подготовка изображения и метки\n",
        "        image = tf.convert_to_tensor(images[i].reshape((1, 28, 28, 1)))\n",
        "        label = labels[i]\n",
        "        if len(label.shape) > 1 and label.shape[1] > 1:\n",
        "            label = np.argmax(label)\n",
        "        label = tf.convert_to_tensor(label)\n",
        "\n",
        "        # Вычисление градиента\n",
        "        with tf.GradientTape() as tape:\n",
        "            tape.watch(image)\n",
        "            prediction = model(image)\n",
        "            loss = tf.keras.losses.categorical_crossentropy(label[None], prediction)\n",
        "        gradient = tape.gradient(loss, image)\n",
        "\n",
        "        # Применение FGSM\n",
        "        adversarial_image = fgsm_attack(image.numpy(), epsilon, gradient.numpy())\n",
        "        adversarial_images.append(np.reshape(adversarial_image, (28, 28, 1)))\n",
        "\n",
        "    return np.array(adversarial_images)\n",
        "\n",
        "# Значение epsilon для атаки\n",
        "epsilon = 0.1\n",
        "\n",
        "# Создание противоречивых изображений для простой полносвязной модели\n",
        "adversarial_example = generate_adversarial_example(model1, test_images, test_labels, epsilon)\n",
        "\n",
        "# Настройка визуализации оригинального и противоречивого изображения\n",
        "fig, axes = plt.subplots(1, 2, figsize=(10, 5))\n",
        "\n",
        "# Оригинальное изображение\n",
        "axes[0].imshow(test_images[15], cmap=\"gray\")\n",
        "axes[0].set_title(\"Оригинальное изображение:\")\n",
        "axes[0].axis(\"off\")\n",
        "\n",
        "# Противоречивое изображение\n",
        "axes[1].imshow(adversarial_example[15].reshape(28, 28), cmap=\"gray\")\n",
        "axes[1].set_title(\"Противоречивое изображение:\")\n",
        "axes[1].axis(\"off\")\n",
        "\n",
        "# Отображение графика\n",
        "plt.tight_layout()\n",
        "plt.show()\n"
      ],
      "metadata": {
        "colab": {
          "base_uri": "https://localhost:8080/",
          "height": 523
        },
        "id": "y-GDw4nPgBpo",
        "outputId": "3a8c582b-e3a1-4290-8822-19229990fbf6"
      },
      "execution_count": null,
      "outputs": [
        {
          "output_type": "display_data",
          "data": {
            "text/plain": [
              "<Figure size 1000x500 with 2 Axes>"
            ],
            "image/png": "[encoded data removed]"
          },
          "metadata": {}
        }
      ]
    },
    {
      "cell_type": "markdown",
      "source": [
        "## Шаг 4: Оценка противоречивых примеров на обеих моделях\n",
        "\n",
        "Теперь мы проверим, как эти противоречивые примеры влияют на обе модели — первую, для которой они были созданы, и вторую, которая их не видела."
      ],
      "metadata": {
        "id": "RA0HxzqArg5-"
      }
    },
    {
      "cell_type": "code",
      "source": [
        "# Оценка полносвязной модели на противоречивых примерах\n",
        "adversarial_loss1, adversarial_acc1 = model1.evaluate(\n",
        "    adversarial_example.reshape(-1, 28, 28),\n",
        "    test_labels,\n",
        "    verbose=0\n",
        ")\n",
        "\n",
        "# Оценка свёрточной модели на противоречивых примерах\n",
        "adversarial_loss2, adversarial_acc2 = model2.evaluate(\n",
        "    adversarial_example.reshape(-1, 28, 28),\n",
        "    test_labels,\n",
        "    verbose=0\n",
        ")\n",
        "\n",
        "# Вывод результатов\n",
        "print(f\"Точность полносвязной модели: {adversarial_acc1:.4f}\")\n",
        "print(f\"Точность свёрточной модели: {adversarial_acc2:.4f}\")\n"
      ],
      "metadata": {
        "colab": {
          "base_uri": "https://localhost:8080/"
        },
        "id": "p56nIwYLrnsJ",
        "outputId": "b13f4b4c-9d2a-4c78-f499-d31942a0feb0"
      },
      "execution_count": null,
      "outputs": [
        {
          "output_type": "stream",
          "name": "stdout",
          "text": [
            "Точность полносвязной модели: 0.0985\n",
            "Точность свёрточной модели: 0.9662\n"
          ]
        }
      ]
    },
    {
      "cell_type": "markdown",
      "source": [
        "**Вывод:**\n",
        "\n",
        "Результаты показывают, что атака FGSM переносится между моделями крайне неэффективно. Полносвязная модель оказалась значительно более уязвимой, с точностью, снизившейся до 9.85%, что свидетельствует о практически полной неспособности модели корректно классифицировать противоречивые примеры. В то же время свёрточная модель продемонстрировала высокую устойчивость к атаке, сохранив точность на уровне 96.62%."
      ],
      "metadata": {
        "id": "73kaZT8f4-aG"
      }
    },
    {
      "cell_type": "markdown",
      "source": [
        "## Шаг 5: Реализация атаки FGSM на вторую модель (свёрточную)\n",
        "\n",
        "Применим атаку FGSM (Fast Gradient Sign Method) к первой модели, чтобы создать противоречивые примеры:"
      ],
      "metadata": {
        "id": "FWJAQ_44zu9v"
      }
    },
    {
      "cell_type": "code",
      "source": [
        "# Создание противоречивых изображений для свёрточной модели\n",
        "adversarial_example1 = generate_adversarial_example(model2, test_images, test_labels, epsilon)\n",
        "\n",
        "import matplotlib.pyplot as plt\n",
        "\n",
        "# Визуализация оригинального и противоречивого изображения\n",
        "fig = plt.figure(figsize=(10, 5))\n",
        "\n",
        "# Оригинальное изображение\n",
        "ax1 = fig.add_subplot(1, 2, 1)\n",
        "ax1.imshow(test_images[15], cmap=\"gray\")\n",
        "ax1.set_title(\"Оригинальное изображение\")\n",
        "ax1.axis(\"off\")\n",
        "\n",
        "# Противоречивое изображение\n",
        "ax2 = fig.add_subplot(1, 2, 2)\n",
        "ax2.imshow(adversarial_example1[15].reshape(28, 28), cmap=\"gray\")\n",
        "ax2.set_title(\"Противоречивое изображение\")\n",
        "ax2.axis(\"off\")\n",
        "\n",
        "# Отображение графика\n",
        "plt.tight_layout()\n",
        "plt.show()\n"
      ],
      "metadata": {
        "colab": {
          "base_uri": "https://localhost:8080/",
          "height": 523
        },
        "id": "6x2TkcoU0Ghg",
        "outputId": "b711a6d6-8aeb-4e2b-c454-9b27839c8536"
      },
      "execution_count": null,
      "outputs": [
        {
          "output_type": "display_data",
          "data": {
            "text/plain": [
              "<Figure size 1000x500 with 2 Axes>"
            ],
            "image/png": "[encoded data removed]"
          },
          "metadata": {}
        }
      ]
    },
    {
      "cell_type": "markdown",
      "source": [
        "## Шаг 6: Оценка противоречивых примеров на обеих моделях"
      ],
      "metadata": {
        "id": "3mqaJ-iR1Yx8"
      }
    },
    {
      "cell_type": "code",
      "source": [
        "# Оценка полносвязной модели на противоречивых примерах\n",
        "adversarial_loss3, adversarial_acc3 = model1.evaluate(\n",
        "    adversarial_example1.reshape(-1, 28, 28),\n",
        "    test_labels,\n",
        "    verbose=0\n",
        ")\n",
        "\n",
        "# Оценка свёрточной модели на противоречивых примерах\n",
        "adversarial_loss4, adversarial_acc4 = model2.evaluate(\n",
        "    adversarial_example1.reshape(-1, 28, 28),\n",
        "    test_labels,\n",
        "    verbose=0\n",
        ")\n",
        "\n",
        "# Вывод результатов\n",
        "print(f\"Точность полносвязной модели на противоречивых примерах: {adversarial_acc3:.4f}\")\n",
        "print(f\"Точность свёрточной модели на противоречивых примерах: {adversarial_acc4:.4f}\")\n"
      ],
      "metadata": {
        "colab": {
          "base_uri": "https://localhost:8080/"
        },
        "id": "piHwANAy1ifk",
        "outputId": "6871da05-af6e-41a3-d94e-51cd40ee0e02"
      },
      "execution_count": null,
      "outputs": [
        {
          "output_type": "stream",
          "name": "stdout",
          "text": [
            "Точность полносвязной модели на противоречивых примерах: 0.9318\n",
            "Точность свёрточной модели на противоречивых примерах: 0.6843\n"
          ]
        }
      ]
    },
    {
      "cell_type": "markdown",
      "source": [
        "**Вывод:**\n",
        "\n",
        "Результаты показывают, что атака FGSM переносится между моделями с разной эффективностью. Полносвязная модель продемонстрировала высокую устойчивость к противоречивым примерам, снизив свою точность лишь до 93.18%, что составляет незначительное снижение по сравнению с исходными результатами.\n",
        "\n",
        "Однако свёрточная модель оказалась более уязвимой: её точность на противоречивых примерах упала до 68.43%. Эти данные подчеркивают, что атака FGSM оказывает более значительное влияние на свёрточные модели, в то время как полносвязные модели демонстрируют большую устойчивость к этой форме атаки. Это может быть связано с различиями в архитектуре моделей и тем, как они обрабатывают информацию."
      ],
      "metadata": {
        "id": "XJtSX6PB2xQH"
      }
    }
  ]
}